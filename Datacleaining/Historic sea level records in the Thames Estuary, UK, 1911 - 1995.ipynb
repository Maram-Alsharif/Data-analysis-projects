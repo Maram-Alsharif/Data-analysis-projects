{
 "cells": [
  {
   "cell_type": "code",
   "execution_count": 1,
   "id": "6dcd8cf3",
   "metadata": {},
   "outputs": [
    {
     "name": "stderr",
     "output_type": "stream",
     "text": [
      "C:\\Users\\maram\\anaconda3\\lib\\site-packages\\scipy\\__init__.py:138: UserWarning: A NumPy version >=1.16.5 and <1.23.0 is required for this version of SciPy (detected version 1.23.4)\n",
      "  warnings.warn(f\"A NumPy version >={np_minversion} and <{np_maxversion} is required for this version of \"\n"
     ]
    }
   ],
   "source": [
    "# 16 OCT \n",
    "#import pandas for manpulation \n",
    "import pandas as pd\n",
    "#import seaborn and matplotlib for visualization\n",
    "import seaborn as sns\n",
    "import matplotlib.pyplot as plt"
   ]
  },
  {
   "cell_type": "code",
   "execution_count": 2,
   "id": "1429e6c1",
   "metadata": {},
   "outputs": [],
   "source": [
    "#The dataset comes with a file called `Data_description.pdf`. "
   ]
  },
  {
   "cell_type": "code",
   "execution_count": 3,
   "id": "e80cbe36",
   "metadata": {},
   "outputs": [],
   "source": [
    "#Load dataset\n",
    "lb=pd.read_csv(\"C:/Users/maram/OneDrive/Desktop/My Project that i want to develop/Data analyst/3_Data/10-11_London_Bridge.txt\")"
   ]
  },
  {
   "cell_type": "code",
   "execution_count": 4,
   "id": "0fd7a3d9",
   "metadata": {},
   "outputs": [
    {
     "data": {
      "text/html": [
       "<div>\n",
       "<style scoped>\n",
       "    .dataframe tbody tr th:only-of-type {\n",
       "        vertical-align: middle;\n",
       "    }\n",
       "\n",
       "    .dataframe tbody tr th {\n",
       "        vertical-align: top;\n",
       "    }\n",
       "\n",
       "    .dataframe thead th {\n",
       "        text-align: right;\n",
       "    }\n",
       "</style>\n",
       "<table border=\"1\" class=\"dataframe\">\n",
       "  <thead>\n",
       "    <tr style=\"text-align: right;\">\n",
       "      <th></th>\n",
       "      <th>Date and time</th>\n",
       "      <th>water level (m ODN)</th>\n",
       "      <th>flag</th>\n",
       "      <th>HW=1 or LW=0</th>\n",
       "    </tr>\n",
       "  </thead>\n",
       "  <tbody>\n",
       "    <tr>\n",
       "      <th>0</th>\n",
       "      <td>01/05/1911 15:40:00</td>\n",
       "      <td>3.7130</td>\n",
       "      <td>1</td>\n",
       "      <td>NaN</td>\n",
       "    </tr>\n",
       "    <tr>\n",
       "      <th>1</th>\n",
       "      <td>02/05/1911 11:25:00</td>\n",
       "      <td>-2.9415</td>\n",
       "      <td>0</td>\n",
       "      <td>NaN</td>\n",
       "    </tr>\n",
       "    <tr>\n",
       "      <th>2</th>\n",
       "      <td>02/05/1911 16:05:00</td>\n",
       "      <td>3.3828</td>\n",
       "      <td>1</td>\n",
       "      <td>NaN</td>\n",
       "    </tr>\n",
       "    <tr>\n",
       "      <th>3</th>\n",
       "      <td>03/05/1911 11:50:00</td>\n",
       "      <td>-2.6367</td>\n",
       "      <td>0</td>\n",
       "      <td>NaN</td>\n",
       "    </tr>\n",
       "    <tr>\n",
       "      <th>4</th>\n",
       "      <td>03/05/1911 16:55:00</td>\n",
       "      <td>2.9256</td>\n",
       "      <td>1</td>\n",
       "      <td>NaN</td>\n",
       "    </tr>\n",
       "    <tr>\n",
       "      <th>...</th>\n",
       "      <td>...</td>\n",
       "      <td>...</td>\n",
       "      <td>...</td>\n",
       "      <td>...</td>\n",
       "    </tr>\n",
       "    <tr>\n",
       "      <th>115498</th>\n",
       "      <td>30/12/1995 20:44:00</td>\n",
       "      <td>3.2900</td>\n",
       "      <td>1</td>\n",
       "      <td>NaN</td>\n",
       "    </tr>\n",
       "    <tr>\n",
       "      <th>115499</th>\n",
       "      <td>31/12/1995 02:32:00</td>\n",
       "      <td>-1.6000</td>\n",
       "      <td>0</td>\n",
       "      <td>NaN</td>\n",
       "    </tr>\n",
       "    <tr>\n",
       "      <th>115500</th>\n",
       "      <td>31/12/1995 08:59:00</td>\n",
       "      <td>3.2000</td>\n",
       "      <td>1</td>\n",
       "      <td>NaN</td>\n",
       "    </tr>\n",
       "    <tr>\n",
       "      <th>115501</th>\n",
       "      <td>31/12/1995 15:03:00</td>\n",
       "      <td>-1.8000</td>\n",
       "      <td>0</td>\n",
       "      <td>NaN</td>\n",
       "    </tr>\n",
       "    <tr>\n",
       "      <th>115502</th>\n",
       "      <td>31/12/1995 21:50:00</td>\n",
       "      <td>3.1700</td>\n",
       "      <td>1</td>\n",
       "      <td>NaN</td>\n",
       "    </tr>\n",
       "  </tbody>\n",
       "</table>\n",
       "<p>115503 rows × 4 columns</p>\n",
       "</div>"
      ],
      "text/plain": [
       "              Date and time  water level (m ODN)   flag   HW=1 or LW=0\n",
       "0       01/05/1911 15:40:00               3.7130      1            NaN\n",
       "1       02/05/1911 11:25:00              -2.9415      0            NaN\n",
       "2       02/05/1911 16:05:00               3.3828      1            NaN\n",
       "3       03/05/1911 11:50:00              -2.6367      0            NaN\n",
       "4       03/05/1911 16:55:00               2.9256      1            NaN\n",
       "...                     ...                  ...    ...            ...\n",
       "115498  30/12/1995 20:44:00               3.2900      1            NaN\n",
       "115499  31/12/1995 02:32:00              -1.6000      0            NaN\n",
       "115500  31/12/1995 08:59:00               3.2000      1            NaN\n",
       "115501  31/12/1995 15:03:00              -1.8000      0            NaN\n",
       "115502  31/12/1995 21:50:00               3.1700      1            NaN\n",
       "\n",
       "[115503 rows x 4 columns]"
      ]
     },
     "execution_count": 4,
     "metadata": {},
     "output_type": "execute_result"
    }
   ],
   "source": [
    "lb"
   ]
  },
  {
   "cell_type": "code",
   "execution_count": 5,
   "id": "aa45a439",
   "metadata": {},
   "outputs": [
    {
     "name": "stdout",
     "output_type": "stream",
     "text": [
      "<class 'pandas.core.frame.DataFrame'>\n",
      "RangeIndex: 115503 entries, 0 to 115502\n",
      "Data columns (total 4 columns):\n",
      " #   Column                Non-Null Count   Dtype  \n",
      "---  ------                --------------   -----  \n",
      " 0   Date and time         115503 non-null  object \n",
      " 1    water level (m ODN)  115503 non-null  object \n",
      " 2    flag                 115503 non-null  int64  \n",
      " 3    HW=1 or LW=0         0 non-null       float64\n",
      "dtypes: float64(1), int64(1), object(2)\n",
      "memory usage: 3.5+ MB\n"
     ]
    }
   ],
   "source": [
    "lb.info()"
   ]
  },
  {
   "cell_type": "code",
   "execution_count": 6,
   "id": "9ccb87f9",
   "metadata": {},
   "outputs": [],
   "source": [
    "df=lb[lb.columns[0:3]]"
   ]
  },
  {
   "cell_type": "code",
   "execution_count": 7,
   "id": "0a96934f",
   "metadata": {},
   "outputs": [],
   "source": [
    "#rename the columns\n",
    "df.columns = ['datetime','water_level','is_high_tide']"
   ]
  },
  {
   "cell_type": "code",
   "execution_count": 8,
   "id": "54a0be91",
   "metadata": {},
   "outputs": [
    {
     "data": {
      "text/html": [
       "<div>\n",
       "<style scoped>\n",
       "    .dataframe tbody tr th:only-of-type {\n",
       "        vertical-align: middle;\n",
       "    }\n",
       "\n",
       "    .dataframe tbody tr th {\n",
       "        vertical-align: top;\n",
       "    }\n",
       "\n",
       "    .dataframe thead th {\n",
       "        text-align: right;\n",
       "    }\n",
       "</style>\n",
       "<table border=\"1\" class=\"dataframe\">\n",
       "  <thead>\n",
       "    <tr style=\"text-align: right;\">\n",
       "      <th></th>\n",
       "      <th>datetime</th>\n",
       "      <th>water_level</th>\n",
       "      <th>is_high_tide</th>\n",
       "    </tr>\n",
       "  </thead>\n",
       "  <tbody>\n",
       "    <tr>\n",
       "      <th>0</th>\n",
       "      <td>01/05/1911 15:40:00</td>\n",
       "      <td>3.7130</td>\n",
       "      <td>1</td>\n",
       "    </tr>\n",
       "    <tr>\n",
       "      <th>1</th>\n",
       "      <td>02/05/1911 11:25:00</td>\n",
       "      <td>-2.9415</td>\n",
       "      <td>0</td>\n",
       "    </tr>\n",
       "    <tr>\n",
       "      <th>2</th>\n",
       "      <td>02/05/1911 16:05:00</td>\n",
       "      <td>3.3828</td>\n",
       "      <td>1</td>\n",
       "    </tr>\n",
       "    <tr>\n",
       "      <th>3</th>\n",
       "      <td>03/05/1911 11:50:00</td>\n",
       "      <td>-2.6367</td>\n",
       "      <td>0</td>\n",
       "    </tr>\n",
       "    <tr>\n",
       "      <th>4</th>\n",
       "      <td>03/05/1911 16:55:00</td>\n",
       "      <td>2.9256</td>\n",
       "      <td>1</td>\n",
       "    </tr>\n",
       "    <tr>\n",
       "      <th>...</th>\n",
       "      <td>...</td>\n",
       "      <td>...</td>\n",
       "      <td>...</td>\n",
       "    </tr>\n",
       "    <tr>\n",
       "      <th>115498</th>\n",
       "      <td>30/12/1995 20:44:00</td>\n",
       "      <td>3.2900</td>\n",
       "      <td>1</td>\n",
       "    </tr>\n",
       "    <tr>\n",
       "      <th>115499</th>\n",
       "      <td>31/12/1995 02:32:00</td>\n",
       "      <td>-1.6000</td>\n",
       "      <td>0</td>\n",
       "    </tr>\n",
       "    <tr>\n",
       "      <th>115500</th>\n",
       "      <td>31/12/1995 08:59:00</td>\n",
       "      <td>3.2000</td>\n",
       "      <td>1</td>\n",
       "    </tr>\n",
       "    <tr>\n",
       "      <th>115501</th>\n",
       "      <td>31/12/1995 15:03:00</td>\n",
       "      <td>-1.8000</td>\n",
       "      <td>0</td>\n",
       "    </tr>\n",
       "    <tr>\n",
       "      <th>115502</th>\n",
       "      <td>31/12/1995 21:50:00</td>\n",
       "      <td>3.1700</td>\n",
       "      <td>1</td>\n",
       "    </tr>\n",
       "  </tbody>\n",
       "</table>\n",
       "<p>115503 rows × 3 columns</p>\n",
       "</div>"
      ],
      "text/plain": [
       "                   datetime water_level  is_high_tide\n",
       "0       01/05/1911 15:40:00      3.7130             1\n",
       "1       02/05/1911 11:25:00     -2.9415             0\n",
       "2       02/05/1911 16:05:00      3.3828             1\n",
       "3       03/05/1911 11:50:00     -2.6367             0\n",
       "4       03/05/1911 16:55:00      2.9256             1\n",
       "...                     ...         ...           ...\n",
       "115498  30/12/1995 20:44:00      3.2900             1\n",
       "115499  31/12/1995 02:32:00     -1.6000             0\n",
       "115500  31/12/1995 08:59:00      3.2000             1\n",
       "115501  31/12/1995 15:03:00     -1.8000             0\n",
       "115502  31/12/1995 21:50:00      3.1700             1\n",
       "\n",
       "[115503 rows x 3 columns]"
      ]
     },
     "execution_count": 8,
     "metadata": {},
     "output_type": "execute_result"
    }
   ],
   "source": [
    "df"
   ]
  },
  {
   "cell_type": "code",
   "execution_count": 9,
   "id": "c90a25e8",
   "metadata": {},
   "outputs": [
    {
     "name": "stderr",
     "output_type": "stream",
     "text": [
      "<ipython-input-9-7d17ad032a38>:2: SettingWithCopyWarning: \n",
      "A value is trying to be set on a copy of a slice from a DataFrame.\n",
      "Try using .loc[row_indexer,col_indexer] = value instead\n",
      "\n",
      "See the caveats in the documentation: https://pandas.pydata.org/pandas-docs/stable/user_guide/indexing.html#returning-a-view-versus-a-copy\n",
      "  df['datetime']=pd.to_datetime(df['datetime'])\n"
     ]
    }
   ],
   "source": [
    "# we have to convert the datetime column into datetime type so, we can do our colculation\n",
    "df['datetime']=pd.to_datetime(df['datetime'])"
   ]
  },
  {
   "cell_type": "code",
   "execution_count": 10,
   "id": "0ca67ae6",
   "metadata": {},
   "outputs": [
    {
     "data": {
      "text/plain": [
       "0   1911-01-05 15:40:00\n",
       "1   1911-02-05 11:25:00\n",
       "2   1911-02-05 16:05:00\n",
       "3   1911-03-05 11:50:00\n",
       "Name: datetime, dtype: datetime64[ns]"
      ]
     },
     "execution_count": 10,
     "metadata": {},
     "output_type": "execute_result"
    }
   ],
   "source": [
    "df['datetime'].head(4)"
   ]
  },
  {
   "cell_type": "code",
   "execution_count": 11,
   "id": "2571b8ef",
   "metadata": {},
   "outputs": [
    {
     "name": "stderr",
     "output_type": "stream",
     "text": [
      "<ipython-input-11-230399e41afb>:2: SettingWithCopyWarning: \n",
      "A value is trying to be set on a copy of a slice from a DataFrame.\n",
      "Try using .loc[row_indexer,col_indexer] = value instead\n",
      "\n",
      "See the caveats in the documentation: https://pandas.pydata.org/pandas-docs/stable/user_guide/indexing.html#returning-a-view-versus-a-copy\n",
      "  df['water_level']=df['water_level'].astype(float)\n"
     ]
    }
   ],
   "source": [
    "# then we have to convert the water_level column into float, using astype function\n",
    "df['water_level']=df['water_level'].astype(float)"
   ]
  },
  {
   "cell_type": "code",
   "execution_count": 12,
   "id": "cce1f941",
   "metadata": {},
   "outputs": [
    {
     "data": {
      "text/plain": [
       "0    3.7130\n",
       "1   -2.9415\n",
       "2    3.3828\n",
       "3   -2.6367\n",
       "Name: water_level, dtype: float64"
      ]
     },
     "execution_count": 12,
     "metadata": {},
     "output_type": "execute_result"
    }
   ],
   "source": [
    "df['water_level'].head(4)"
   ]
  },
  {
   "cell_type": "code",
   "execution_count": 13,
   "id": "8a9622d0",
   "metadata": {},
   "outputs": [
    {
     "data": {
      "text/html": [
       "<div>\n",
       "<style scoped>\n",
       "    .dataframe tbody tr th:only-of-type {\n",
       "        vertical-align: middle;\n",
       "    }\n",
       "\n",
       "    .dataframe tbody tr th {\n",
       "        vertical-align: top;\n",
       "    }\n",
       "\n",
       "    .dataframe thead th {\n",
       "        text-align: right;\n",
       "    }\n",
       "</style>\n",
       "<table border=\"1\" class=\"dataframe\">\n",
       "  <thead>\n",
       "    <tr style=\"text-align: right;\">\n",
       "      <th></th>\n",
       "      <th>datetime</th>\n",
       "      <th>water_level</th>\n",
       "      <th>is_high_tide</th>\n",
       "      <th>year</th>\n",
       "      <th>month</th>\n",
       "    </tr>\n",
       "  </thead>\n",
       "  <tbody>\n",
       "    <tr>\n",
       "      <th>0</th>\n",
       "      <td>1911-01-05 15:40:00</td>\n",
       "      <td>3.7130</td>\n",
       "      <td>1</td>\n",
       "      <td>1911</td>\n",
       "      <td>1</td>\n",
       "    </tr>\n",
       "    <tr>\n",
       "      <th>1</th>\n",
       "      <td>1911-02-05 11:25:00</td>\n",
       "      <td>-2.9415</td>\n",
       "      <td>0</td>\n",
       "      <td>1911</td>\n",
       "      <td>2</td>\n",
       "    </tr>\n",
       "    <tr>\n",
       "      <th>2</th>\n",
       "      <td>1911-02-05 16:05:00</td>\n",
       "      <td>3.3828</td>\n",
       "      <td>1</td>\n",
       "      <td>1911</td>\n",
       "      <td>2</td>\n",
       "    </tr>\n",
       "    <tr>\n",
       "      <th>3</th>\n",
       "      <td>1911-03-05 11:50:00</td>\n",
       "      <td>-2.6367</td>\n",
       "      <td>0</td>\n",
       "      <td>1911</td>\n",
       "      <td>3</td>\n",
       "    </tr>\n",
       "    <tr>\n",
       "      <th>4</th>\n",
       "      <td>1911-03-05 16:55:00</td>\n",
       "      <td>2.9256</td>\n",
       "      <td>1</td>\n",
       "      <td>1911</td>\n",
       "      <td>3</td>\n",
       "    </tr>\n",
       "    <tr>\n",
       "      <th>...</th>\n",
       "      <td>...</td>\n",
       "      <td>...</td>\n",
       "      <td>...</td>\n",
       "      <td>...</td>\n",
       "      <td>...</td>\n",
       "    </tr>\n",
       "    <tr>\n",
       "      <th>115498</th>\n",
       "      <td>1995-12-30 20:44:00</td>\n",
       "      <td>3.2900</td>\n",
       "      <td>1</td>\n",
       "      <td>1995</td>\n",
       "      <td>12</td>\n",
       "    </tr>\n",
       "    <tr>\n",
       "      <th>115499</th>\n",
       "      <td>1995-12-31 02:32:00</td>\n",
       "      <td>-1.6000</td>\n",
       "      <td>0</td>\n",
       "      <td>1995</td>\n",
       "      <td>12</td>\n",
       "    </tr>\n",
       "    <tr>\n",
       "      <th>115500</th>\n",
       "      <td>1995-12-31 08:59:00</td>\n",
       "      <td>3.2000</td>\n",
       "      <td>1</td>\n",
       "      <td>1995</td>\n",
       "      <td>12</td>\n",
       "    </tr>\n",
       "    <tr>\n",
       "      <th>115501</th>\n",
       "      <td>1995-12-31 15:03:00</td>\n",
       "      <td>-1.8000</td>\n",
       "      <td>0</td>\n",
       "      <td>1995</td>\n",
       "      <td>12</td>\n",
       "    </tr>\n",
       "    <tr>\n",
       "      <th>115502</th>\n",
       "      <td>1995-12-31 21:50:00</td>\n",
       "      <td>3.1700</td>\n",
       "      <td>1</td>\n",
       "      <td>1995</td>\n",
       "      <td>12</td>\n",
       "    </tr>\n",
       "  </tbody>\n",
       "</table>\n",
       "<p>115503 rows × 5 columns</p>\n",
       "</div>"
      ],
      "text/plain": [
       "                  datetime  water_level  is_high_tide  year  month\n",
       "0      1911-01-05 15:40:00       3.7130             1  1911      1\n",
       "1      1911-02-05 11:25:00      -2.9415             0  1911      2\n",
       "2      1911-02-05 16:05:00       3.3828             1  1911      2\n",
       "3      1911-03-05 11:50:00      -2.6367             0  1911      3\n",
       "4      1911-03-05 16:55:00       2.9256             1  1911      3\n",
       "...                    ...          ...           ...   ...    ...\n",
       "115498 1995-12-30 20:44:00       3.2900             1  1995     12\n",
       "115499 1995-12-31 02:32:00      -1.6000             0  1995     12\n",
       "115500 1995-12-31 08:59:00       3.2000             1  1995     12\n",
       "115501 1995-12-31 15:03:00      -1.8000             0  1995     12\n",
       "115502 1995-12-31 21:50:00       3.1700             1  1995     12\n",
       "\n",
       "[115503 rows x 5 columns]"
      ]
     },
     "execution_count": 13,
     "metadata": {},
     "output_type": "execute_result"
    }
   ],
   "source": [
    "#add to columns year and month \n",
    "df['year']=df['datetime'].dt.year\n",
    "df['month']=df['datetime'].dt.month\n",
    "df"
   ]
  },
  {
   "cell_type": "code",
   "execution_count": 14,
   "id": "5287f66f",
   "metadata": {},
   "outputs": [],
   "source": [
    "#now, lets creat a function that do all the cleaning steps \n",
    "def cleaing (data) :  \n",
    "    data=pd.read_csv(data)\n",
    "    data=data[data.columns[0:3]]\n",
    "    data.columns = ['datetime','water_level','is_high_tide']\n",
    "    data['datetime']=pd.to_datetime(data['datetime'])\n",
    "    data['water_level']=data['water_level'].astype(float)\n",
    "    data['year']=data['datetime'].dt.year\n",
    "    data['month']=data['datetime'].dt.month\n",
    "    return data"
   ]
  },
  {
   "cell_type": "code",
   "execution_count": 22,
   "id": "a2eea7f6",
   "metadata": {},
   "outputs": [
    {
     "data": {
      "image/png": "[encoded data removed]",
      "text/plain": [
       "<Figure size 432x288 with 1 Axes>"
      ]
     },
     "metadata": {
      "needs_background": "light"
     },
     "output_type": "display_data"
    }
   ],
   "source": [
    "#hist\n",
    "plt.hist(df.query('is_high_tide==0')['water_level'],bins=50)\n",
    "plt.hist(df.query('is_high_tide==1')['water_level'],bins=50)\n",
    "plt.show()"
   ]
  },
  {
   "cell_type": "code",
   "execution_count": 17,
   "id": "c6168e8c",
   "metadata": {},
   "outputs": [
    {
     "name": "stdout",
     "output_type": "stream",
     "text": [
      "1.5.0\n"
     ]
    }
   ],
   "source": [
    "print(pd.__version__)"
   ]
  },
  {
   "cell_type": "code",
   "execution_count": 26,
   "id": "a930888c",
   "metadata": {},
   "outputs": [
    {
     "data": {
      "text/plain": [
       "<AxesSubplot:xlabel='water_level'>"
      ]
     },
     "execution_count": 26,
     "metadata": {},
     "output_type": "execute_result"
    },
    {
     "data": {
      "image/png": "[encoded data removed]",
      "text/plain": [
       "<Figure size 576x144 with 1 Axes>"
      ]
     },
     "metadata": {
      "needs_background": "light"
     },
     "output_type": "display_data"
    }
   ],
   "source": [
    "#boxbolt\n",
    "plt.figure(figsize=(8,2))\n",
    "sns.boxplot(data=df.query('is_high_tide==0'),x='water_level',color='skyblue')\n",
    "#most of the values are range  between -2 to -3 when the tide = 0"
   ]
  },
  {
   "cell_type": "code",
   "execution_count": 29,
   "id": "5365f77b",
   "metadata": {},
   "outputs": [
    {
     "data": {
      "text/plain": [
       "<AxesSubplot:xlabel='water_level'>"
      ]
     },
     "execution_count": 29,
     "metadata": {},
     "output_type": "execute_result"
    },
    {
     "data": {
      "image/png": "[encoded data removed]",
      "text/plain": [
       "<Figure size 576x144 with 1 Axes>"
      ]
     },
     "metadata": {
      "needs_background": "light"
     },
     "output_type": "display_data"
    }
   ],
   "source": [
    "plt.figure(figsize=(8,2))\n",
    "sns.boxplot(data=df.query('is_high_tide==1'),x='water_level',color='orange')\n",
    "#most of the values are range  between 3 to 3.7 when the tide = 1"
   ]
  },
  {
   "cell_type": "code",
   "execution_count": 33,
   "id": "5b97da57",
   "metadata": {},
   "outputs": [
    {
     "data": {
      "text/html": [
       "<div>\n",
       "<style scoped>\n",
       "    .dataframe tbody tr th:only-of-type {\n",
       "        vertical-align: middle;\n",
       "    }\n",
       "\n",
       "    .dataframe tbody tr th {\n",
       "        vertical-align: top;\n",
       "    }\n",
       "\n",
       "    .dataframe thead th {\n",
       "        text-align: right;\n",
       "    }\n",
       "</style>\n",
       "<table border=\"1\" class=\"dataframe\">\n",
       "  <thead>\n",
       "    <tr style=\"text-align: right;\">\n",
       "      <th></th>\n",
       "      <th>water_level</th>\n",
       "      <th>is_high_tide</th>\n",
       "      <th>year</th>\n",
       "      <th>month</th>\n",
       "    </tr>\n",
       "  </thead>\n",
       "  <tbody>\n",
       "    <tr>\n",
       "      <th>count</th>\n",
       "      <td>57580.000000</td>\n",
       "      <td>57586.0</td>\n",
       "      <td>57586.000000</td>\n",
       "      <td>57586.000000</td>\n",
       "    </tr>\n",
       "    <tr>\n",
       "      <th>mean</th>\n",
       "      <td>-2.383737</td>\n",
       "      <td>0.0</td>\n",
       "      <td>1953.671708</td>\n",
       "      <td>6.532491</td>\n",
       "    </tr>\n",
       "    <tr>\n",
       "      <th>std</th>\n",
       "      <td>0.399748</td>\n",
       "      <td>0.0</td>\n",
       "      <td>24.366551</td>\n",
       "      <td>3.444258</td>\n",
       "    </tr>\n",
       "    <tr>\n",
       "      <th>min</th>\n",
       "      <td>-4.013000</td>\n",
       "      <td>0.0</td>\n",
       "      <td>1911.000000</td>\n",
       "      <td>1.000000</td>\n",
       "    </tr>\n",
       "    <tr>\n",
       "      <th>25%</th>\n",
       "      <td>-2.666900</td>\n",
       "      <td>0.0</td>\n",
       "      <td>1933.000000</td>\n",
       "      <td>4.000000</td>\n",
       "    </tr>\n",
       "    <tr>\n",
       "      <th>50%</th>\n",
       "      <td>-2.412900</td>\n",
       "      <td>0.0</td>\n",
       "      <td>1954.000000</td>\n",
       "      <td>7.000000</td>\n",
       "    </tr>\n",
       "    <tr>\n",
       "      <th>75%</th>\n",
       "      <td>-2.128700</td>\n",
       "      <td>0.0</td>\n",
       "      <td>1975.000000</td>\n",
       "      <td>10.000000</td>\n",
       "    </tr>\n",
       "    <tr>\n",
       "      <th>max</th>\n",
       "      <td>0.842900</td>\n",
       "      <td>0.0</td>\n",
       "      <td>1995.000000</td>\n",
       "      <td>12.000000</td>\n",
       "    </tr>\n",
       "  </tbody>\n",
       "</table>\n",
       "</div>"
      ],
      "text/plain": [
       "        water_level  is_high_tide          year         month\n",
       "count  57580.000000       57586.0  57586.000000  57586.000000\n",
       "mean      -2.383737           0.0   1953.671708      6.532491\n",
       "std        0.399748           0.0     24.366551      3.444258\n",
       "min       -4.013000           0.0   1911.000000      1.000000\n",
       "25%       -2.666900           0.0   1933.000000      4.000000\n",
       "50%       -2.412900           0.0   1954.000000      7.000000\n",
       "75%       -2.128700           0.0   1975.000000     10.000000\n",
       "max        0.842900           0.0   1995.000000     12.000000"
      ]
     },
     "execution_count": 33,
     "metadata": {},
     "output_type": "execute_result"
    }
   ],
   "source": [
    "df.query('is_high_tide==0').describe()"
   ]
  },
  {
   "cell_type": "code",
   "execution_count": 34,
   "id": "55758470",
   "metadata": {},
   "outputs": [
    {
     "data": {
      "text/html": [
       "<div>\n",
       "<style scoped>\n",
       "    .dataframe tbody tr th:only-of-type {\n",
       "        vertical-align: middle;\n",
       "    }\n",
       "\n",
       "    .dataframe tbody tr th {\n",
       "        vertical-align: top;\n",
       "    }\n",
       "\n",
       "    .dataframe thead th {\n",
       "        text-align: right;\n",
       "    }\n",
       "</style>\n",
       "<table border=\"1\" class=\"dataframe\">\n",
       "  <thead>\n",
       "    <tr style=\"text-align: right;\">\n",
       "      <th></th>\n",
       "      <th>water_level</th>\n",
       "      <th>is_high_tide</th>\n",
       "      <th>year</th>\n",
       "      <th>month</th>\n",
       "    </tr>\n",
       "  </thead>\n",
       "  <tbody>\n",
       "    <tr>\n",
       "      <th>count</th>\n",
       "      <td>57909.000000</td>\n",
       "      <td>57917.0</td>\n",
       "      <td>57917.000000</td>\n",
       "      <td>57917.000000</td>\n",
       "    </tr>\n",
       "    <tr>\n",
       "      <th>mean</th>\n",
       "      <td>3.318373</td>\n",
       "      <td>1.0</td>\n",
       "      <td>1953.701400</td>\n",
       "      <td>6.534126</td>\n",
       "    </tr>\n",
       "    <tr>\n",
       "      <th>std</th>\n",
       "      <td>0.509422</td>\n",
       "      <td>0.0</td>\n",
       "      <td>24.334694</td>\n",
       "      <td>3.441167</td>\n",
       "    </tr>\n",
       "    <tr>\n",
       "      <th>min</th>\n",
       "      <td>0.010000</td>\n",
       "      <td>1.0</td>\n",
       "      <td>1911.000000</td>\n",
       "      <td>1.000000</td>\n",
       "    </tr>\n",
       "    <tr>\n",
       "      <th>25%</th>\n",
       "      <td>2.956400</td>\n",
       "      <td>1.0</td>\n",
       "      <td>1933.000000</td>\n",
       "      <td>4.000000</td>\n",
       "    </tr>\n",
       "    <tr>\n",
       "      <th>50%</th>\n",
       "      <td>3.352600</td>\n",
       "      <td>1.0</td>\n",
       "      <td>1954.000000</td>\n",
       "      <td>7.000000</td>\n",
       "    </tr>\n",
       "    <tr>\n",
       "      <th>75%</th>\n",
       "      <td>3.700000</td>\n",
       "      <td>1.0</td>\n",
       "      <td>1975.000000</td>\n",
       "      <td>10.000000</td>\n",
       "    </tr>\n",
       "    <tr>\n",
       "      <th>max</th>\n",
       "      <td>5.409900</td>\n",
       "      <td>1.0</td>\n",
       "      <td>1995.000000</td>\n",
       "      <td>12.000000</td>\n",
       "    </tr>\n",
       "  </tbody>\n",
       "</table>\n",
       "</div>"
      ],
      "text/plain": [
       "        water_level  is_high_tide          year         month\n",
       "count  57909.000000       57917.0  57917.000000  57917.000000\n",
       "mean       3.318373           1.0   1953.701400      6.534126\n",
       "std        0.509422           0.0     24.334694      3.441167\n",
       "min        0.010000           1.0   1911.000000      1.000000\n",
       "25%        2.956400           1.0   1933.000000      4.000000\n",
       "50%        3.352600           1.0   1954.000000      7.000000\n",
       "75%        3.700000           1.0   1975.000000     10.000000\n",
       "max        5.409900           1.0   1995.000000     12.000000"
      ]
     },
     "execution_count": 34,
     "metadata": {},
     "output_type": "execute_result"
    }
   ],
   "source": [
    "df.query('is_high_tide==1').describe()"
   ]
  },
  {
   "cell_type": "code",
   "execution_count": 52,
   "id": "b8b3bcae",
   "metadata": {},
   "outputs": [],
   "source": [
    "plt.figsize=(8,3)\n",
    "all_days=df.query('is_high_tide==1').groupby('year').count()['is_high_tide']"
   ]
  },
  {
   "cell_type": "code",
   "execution_count": 53,
   "id": "548e013d",
   "metadata": {},
   "outputs": [
    {
     "data": {
      "text/plain": [
       "year\n",
       "1911    244\n",
       "1912    557\n",
       "1913    669\n",
       "1914    688\n",
       "1915    666\n",
       "       ... \n",
       "1991    706\n",
       "1992    707\n",
       "1993    699\n",
       "1994    705\n",
       "1995    705\n",
       "Name: is_high_tide, Length: 85, dtype: int64"
      ]
     },
     "execution_count": 53,
     "metadata": {},
     "output_type": "execute_result"
    }
   ],
   "source": [
    "all_days"
   ]
  },
  {
   "cell_type": "code",
   "execution_count": 54,
   "id": "9522a851",
   "metadata": {},
   "outputs": [],
   "source": [
    "high_days=df.query(f'(is_high_tide==1)&(water_level>3.7)').groupby('year').count()['is_high_tide']"
   ]
  },
  {
   "cell_type": "code",
   "execution_count": 55,
   "id": "e8ec14e2",
   "metadata": {},
   "outputs": [
    {
     "data": {
      "text/plain": [
       "year\n",
       "1911      8\n",
       "1912     71\n",
       "1913    125\n",
       "1914    111\n",
       "1915    146\n",
       "       ... \n",
       "1991    178\n",
       "1992    188\n",
       "1993    222\n",
       "1994    252\n",
       "1995    229\n",
       "Name: is_high_tide, Length: 85, dtype: int64"
      ]
     },
     "execution_count": 55,
     "metadata": {},
     "output_type": "execute_result"
    }
   ],
   "source": [
    "high_days"
   ]
  },
  {
   "cell_type": "code",
   "execution_count": 56,
   "id": "f293e9b9",
   "metadata": {},
   "outputs": [],
   "source": [
    "#colculate the ratio \n",
    "ratio=(high_days/all_days)"
   ]
  },
  {
   "cell_type": "code",
   "execution_count": 57,
   "id": "f40aa11d",
   "metadata": {},
   "outputs": [],
   "source": [
    "ratio=ratio.reset_index()"
   ]
  },
  {
   "cell_type": "code",
   "execution_count": 58,
   "id": "17ac4d13",
   "metadata": {},
   "outputs": [
    {
     "data": {
      "image/png": "[encoded data removed]",
      "text/plain": [
       "<Figure size 432x288 with 1 Axes>"
      ]
     },
     "metadata": {
      "needs_background": "light"
     },
     "output_type": "display_data"
    }
   ],
   "source": [
    "plt.bar(ratio.year,ratio.is_high_tide,color='orange')\n",
    "plt.show()"
   ]
  },
  {
   "cell_type": "code",
   "execution_count": 60,
   "id": "15f93ce7",
   "metadata": {},
   "outputs": [
    {
     "data": {
      "image/png": "[encoded data removed]",
      "text/plain": [
       "<Figure size 576x216 with 1 Axes>"
      ]
     },
     "metadata": {
      "needs_background": "light"
     },
     "output_type": "display_data"
    }
   ],
   "source": [
    "#The same thing for low tide\n",
    "plt.figure(figsize=(8,3))\n",
    "all_days = df.query('is_high_tide==0').groupby('year').count()['water_level']\n",
    "high_days = df.query('(water_level<-2.66) & (is_high_tide==0)').groupby('year').count()['water_level']\n",
    "ratio = (high_days/all_days).reset_index()\n",
    "plt.bar(ratio.year,ratio.water_level,color='skyblue')\n",
    "plt.show()"
   ]
  },
  {
   "cell_type": "code",
   "execution_count": 67,
   "id": "10b748a9",
   "metadata": {},
   "outputs": [],
   "source": [
    "water_level = pd.DataFrame()\n",
    "\n",
    "for year in [1927, 1928, 1929]:\n",
    "    level_per_year = df.query(f'year=={year}').set_index('datetime')\n",
    "    level_per_year = level_per_year.groupby('is_high_tide').resample('1M').median()['water_level'].reset_index()\n",
    "    level_per_year['month'] = level_per_year.datetime.dt.month\n",
    "    level_per_year['year'] = level_per_year.datetime.dt.year    \n",
    "    water_level = pd.concat([water_level, level_per_year]).reset_index(drop=True)"
   ]
  },
  {
   "cell_type": "code",
   "execution_count": 66,
   "id": "ddca8dc9",
   "metadata": {},
   "outputs": [
    {
     "data": {
      "text/html": [
       "<div>\n",
       "<style scoped>\n",
       "    .dataframe tbody tr th:only-of-type {\n",
       "        vertical-align: middle;\n",
       "    }\n",
       "\n",
       "    .dataframe tbody tr th {\n",
       "        vertical-align: top;\n",
       "    }\n",
       "\n",
       "    .dataframe thead th {\n",
       "        text-align: right;\n",
       "    }\n",
       "</style>\n",
       "<table border=\"1\" class=\"dataframe\">\n",
       "  <thead>\n",
       "    <tr style=\"text-align: right;\">\n",
       "      <th></th>\n",
       "      <th>is_high_tide</th>\n",
       "      <th>datetime</th>\n",
       "      <th>water_level</th>\n",
       "      <th>month</th>\n",
       "      <th>year</th>\n",
       "    </tr>\n",
       "  </thead>\n",
       "  <tbody>\n",
       "    <tr>\n",
       "      <th>0</th>\n",
       "      <td>0</td>\n",
       "      <td>1927-01-31</td>\n",
       "      <td>-2.3700</td>\n",
       "      <td>1</td>\n",
       "      <td>1927</td>\n",
       "    </tr>\n",
       "    <tr>\n",
       "      <th>1</th>\n",
       "      <td>0</td>\n",
       "      <td>1927-02-28</td>\n",
       "      <td>-2.3827</td>\n",
       "      <td>2</td>\n",
       "      <td>1927</td>\n",
       "    </tr>\n",
       "    <tr>\n",
       "      <th>2</th>\n",
       "      <td>0</td>\n",
       "      <td>1927-03-31</td>\n",
       "      <td>-2.4081</td>\n",
       "      <td>3</td>\n",
       "      <td>1927</td>\n",
       "    </tr>\n",
       "    <tr>\n",
       "      <th>3</th>\n",
       "      <td>0</td>\n",
       "      <td>1927-04-30</td>\n",
       "      <td>-2.4589</td>\n",
       "      <td>4</td>\n",
       "      <td>1927</td>\n",
       "    </tr>\n",
       "    <tr>\n",
       "      <th>4</th>\n",
       "      <td>0</td>\n",
       "      <td>1927-05-31</td>\n",
       "      <td>-2.5351</td>\n",
       "      <td>5</td>\n",
       "      <td>1927</td>\n",
       "    </tr>\n",
       "  </tbody>\n",
       "</table>\n",
       "</div>"
      ],
      "text/plain": [
       "   is_high_tide   datetime  water_level  month  year\n",
       "0             0 1927-01-31      -2.3700      1  1927\n",
       "1             0 1927-02-28      -2.3827      2  1927\n",
       "2             0 1927-03-31      -2.4081      3  1927\n",
       "3             0 1927-04-30      -2.4589      4  1927\n",
       "4             0 1927-05-31      -2.5351      5  1927"
      ]
     },
     "execution_count": 66,
     "metadata": {},
     "output_type": "execute_result"
    }
   ],
   "source": [
    "water_level[water_level['is_high_tide']==0].describe()"
   ]
  },
  {
   "cell_type": "code",
   "execution_count": 65,
   "id": "dd80c315",
   "metadata": {},
   "outputs": [
    {
     "data": {
      "image/png": "[encoded data removed]",
      "text/plain": [
       "<Figure size 432x288 with 1 Axes>"
      ]
     },
     "metadata": {
      "needs_background": "light"
     },
     "output_type": "display_data"
    }
   ],
   "source": [
    "sns.lineplot(data=water_level[water_level['is_high_tide']==0],y='water_level',x='month',hue='year')\n",
    "plt.axhline(-2.46,0,12,linestyle='--',color='orange')\n",
    "plt.show()"
   ]
  },
  {
   "cell_type": "code",
   "execution_count": 68,
   "id": "787db4ed",
   "metadata": {},
   "outputs": [
    {
     "data": {
      "text/html": [
       "<div>\n",
       "<style scoped>\n",
       "    .dataframe tbody tr th:only-of-type {\n",
       "        vertical-align: middle;\n",
       "    }\n",
       "\n",
       "    .dataframe tbody tr th {\n",
       "        vertical-align: top;\n",
       "    }\n",
       "\n",
       "    .dataframe thead th {\n",
       "        text-align: right;\n",
       "    }\n",
       "</style>\n",
       "<table border=\"1\" class=\"dataframe\">\n",
       "  <thead>\n",
       "    <tr style=\"text-align: right;\">\n",
       "      <th></th>\n",
       "      <th>is_high_tide</th>\n",
       "      <th>water_level</th>\n",
       "      <th>month</th>\n",
       "      <th>year</th>\n",
       "    </tr>\n",
       "  </thead>\n",
       "  <tbody>\n",
       "    <tr>\n",
       "      <th>count</th>\n",
       "      <td>36.0</td>\n",
       "      <td>36.000000</td>\n",
       "      <td>36.00000</td>\n",
       "      <td>36.000000</td>\n",
       "    </tr>\n",
       "    <tr>\n",
       "      <th>mean</th>\n",
       "      <td>1.0</td>\n",
       "      <td>3.266560</td>\n",
       "      <td>6.50000</td>\n",
       "      <td>1928.000000</td>\n",
       "    </tr>\n",
       "    <tr>\n",
       "      <th>std</th>\n",
       "      <td>0.0</td>\n",
       "      <td>0.104571</td>\n",
       "      <td>3.50102</td>\n",
       "      <td>0.828079</td>\n",
       "    </tr>\n",
       "    <tr>\n",
       "      <th>min</th>\n",
       "      <td>1.0</td>\n",
       "      <td>3.039900</td>\n",
       "      <td>1.00000</td>\n",
       "      <td>1927.000000</td>\n",
       "    </tr>\n",
       "    <tr>\n",
       "      <th>25%</th>\n",
       "      <td>1.0</td>\n",
       "      <td>3.209763</td>\n",
       "      <td>3.75000</td>\n",
       "      <td>1927.000000</td>\n",
       "    </tr>\n",
       "    <tr>\n",
       "      <th>50%</th>\n",
       "      <td>1.0</td>\n",
       "      <td>3.249450</td>\n",
       "      <td>6.50000</td>\n",
       "      <td>1928.000000</td>\n",
       "    </tr>\n",
       "    <tr>\n",
       "      <th>75%</th>\n",
       "      <td>1.0</td>\n",
       "      <td>3.324063</td>\n",
       "      <td>9.25000</td>\n",
       "      <td>1929.000000</td>\n",
       "    </tr>\n",
       "    <tr>\n",
       "      <th>max</th>\n",
       "      <td>1.0</td>\n",
       "      <td>3.459000</td>\n",
       "      <td>12.00000</td>\n",
       "      <td>1929.000000</td>\n",
       "    </tr>\n",
       "  </tbody>\n",
       "</table>\n",
       "</div>"
      ],
      "text/plain": [
       "       is_high_tide  water_level     month         year\n",
       "count          36.0    36.000000  36.00000    36.000000\n",
       "mean            1.0     3.266560   6.50000  1928.000000\n",
       "std             0.0     0.104571   3.50102     0.828079\n",
       "min             1.0     3.039900   1.00000  1927.000000\n",
       "25%             1.0     3.209763   3.75000  1927.000000\n",
       "50%             1.0     3.249450   6.50000  1928.000000\n",
       "75%             1.0     3.324063   9.25000  1929.000000\n",
       "max             1.0     3.459000  12.00000  1929.000000"
      ]
     },
     "execution_count": 68,
     "metadata": {},
     "output_type": "execute_result"
    }
   ],
   "source": [
    "water_level[water_level['is_high_tide']==1].describe()"
   ]
  },
  {
   "cell_type": "code",
   "execution_count": 70,
   "id": "28cb07fd",
   "metadata": {},
   "outputs": [
    {
     "data": {
      "image/png": "[encoded data removed]",
      "text/plain": [
       "<Figure size 432x288 with 1 Axes>"
      ]
     },
     "metadata": {
      "needs_background": "light"
     },
     "output_type": "display_data"
    }
   ],
   "source": [
    "sns.lineplot(data=water_level[water_level['is_high_tide']==1],y='water_level',x='month',hue='year')\n",
    "plt.axhline(3.2,0,12,linestyle='--',color='orange')\n",
    "plt.show()"
   ]
  }
 ],
 "metadata": {
  "kernelspec": {
   "display_name": "Python 3",
   "language": "python",
   "name": "python3"
  },
  "language_info": {
   "codemirror_mode": {
    "name": "ipython",
    "version": 3
   },
   "file_extension": ".py",
   "mimetype": "text/x-python",
   "name": "python",
   "nbconvert_exporter": "python",
   "pygments_lexer": "ipython3",
   "version": "3.8.8"
  }
 },
 "nbformat": 4,
 "nbformat_minor": 5
}
